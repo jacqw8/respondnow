{
 "cells": [
  {
   "cell_type": "code",
   "execution_count": 2,
   "id": "bea155b2-1d21-4b75-a357-974a34a1478b",
   "metadata": {},
   "outputs": [
    {
     "name": "stdout",
     "output_type": "stream",
     "text": [
      "Requirement already satisfied: spacy in /opt/homebrew/lib/python3.11/site-packages (3.7.5)\n",
      "Requirement already satisfied: spacy-legacy<3.1.0,>=3.0.11 in /opt/homebrew/lib/python3.11/site-packages (from spacy) (3.0.12)\n",
      "Requirement already satisfied: spacy-loggers<2.0.0,>=1.0.0 in /opt/homebrew/lib/python3.11/site-packages (from spacy) (1.0.5)\n",
      "Requirement already satisfied: murmurhash<1.1.0,>=0.28.0 in /opt/homebrew/lib/python3.11/site-packages (from spacy) (1.0.10)\n",
      "Requirement already satisfied: cymem<2.1.0,>=2.0.2 in /opt/homebrew/lib/python3.11/site-packages (from spacy) (2.0.8)\n",
      "Requirement already satisfied: preshed<3.1.0,>=3.0.2 in /opt/homebrew/lib/python3.11/site-packages (from spacy) (3.0.9)\n",
      "Requirement already satisfied: thinc<8.3.0,>=8.2.2 in /opt/homebrew/lib/python3.11/site-packages (from spacy) (8.2.5)\n",
      "Requirement already satisfied: wasabi<1.2.0,>=0.9.1 in /opt/homebrew/lib/python3.11/site-packages (from spacy) (1.1.3)\n",
      "Requirement already satisfied: srsly<3.0.0,>=2.4.3 in /opt/homebrew/lib/python3.11/site-packages (from spacy) (2.4.8)\n",
      "Requirement already satisfied: catalogue<2.1.0,>=2.0.6 in /opt/homebrew/lib/python3.11/site-packages (from spacy) (2.0.10)\n",
      "Requirement already satisfied: weasel<0.5.0,>=0.1.0 in /opt/homebrew/lib/python3.11/site-packages (from spacy) (0.4.1)\n",
      "Requirement already satisfied: typer<1.0.0,>=0.3.0 in /opt/homebrew/lib/python3.11/site-packages (from spacy) (0.12.3)\n",
      "Requirement already satisfied: tqdm<5.0.0,>=4.38.0 in /opt/homebrew/lib/python3.11/site-packages (from spacy) (4.66.1)\n",
      "Requirement already satisfied: requests<3.0.0,>=2.13.0 in /opt/homebrew/lib/python3.11/site-packages (from spacy) (2.31.0)\n",
      "Requirement already satisfied: pydantic!=1.8,!=1.8.1,<3.0.0,>=1.7.4 in /opt/homebrew/lib/python3.11/site-packages (from spacy) (2.5.2)\n",
      "Requirement already satisfied: jinja2 in /opt/homebrew/lib/python3.11/site-packages (from spacy) (3.1.2)\n",
      "Requirement already satisfied: setuptools in /opt/homebrew/lib/python3.11/site-packages (from spacy) (69.2.0)\n",
      "Requirement already satisfied: packaging>=20.0 in /opt/homebrew/lib/python3.11/site-packages (from spacy) (23.2)\n",
      "Requirement already satisfied: langcodes<4.0.0,>=3.2.0 in /opt/homebrew/lib/python3.11/site-packages (from spacy) (3.4.0)\n",
      "Requirement already satisfied: numpy>=1.19.0 in /opt/homebrew/lib/python3.11/site-packages (from spacy) (1.26.2)\n",
      "Requirement already satisfied: language-data>=1.2 in /opt/homebrew/lib/python3.11/site-packages (from langcodes<4.0.0,>=3.2.0->spacy) (1.2.0)\n",
      "Requirement already satisfied: annotated-types>=0.4.0 in /opt/homebrew/lib/python3.11/site-packages (from pydantic!=1.8,!=1.8.1,<3.0.0,>=1.7.4->spacy) (0.6.0)\n",
      "Requirement already satisfied: pydantic-core==2.14.5 in /opt/homebrew/lib/python3.11/site-packages (from pydantic!=1.8,!=1.8.1,<3.0.0,>=1.7.4->spacy) (2.14.5)\n",
      "Requirement already satisfied: typing-extensions>=4.6.1 in /opt/homebrew/lib/python3.11/site-packages (from pydantic!=1.8,!=1.8.1,<3.0.0,>=1.7.4->spacy) (4.9.0)\n",
      "Requirement already satisfied: charset-normalizer<4,>=2 in /opt/homebrew/lib/python3.11/site-packages (from requests<3.0.0,>=2.13.0->spacy) (3.3.2)\n",
      "Requirement already satisfied: idna<4,>=2.5 in /opt/homebrew/lib/python3.11/site-packages (from requests<3.0.0,>=2.13.0->spacy) (3.6)\n",
      "Requirement already satisfied: urllib3<3,>=1.21.1 in /opt/homebrew/lib/python3.11/site-packages (from requests<3.0.0,>=2.13.0->spacy) (2.1.0)\n",
      "Requirement already satisfied: certifi>=2017.4.17 in /opt/homebrew/lib/python3.11/site-packages (from requests<3.0.0,>=2.13.0->spacy) (2023.11.17)\n",
      "Requirement already satisfied: blis<0.8.0,>=0.7.8 in /opt/homebrew/lib/python3.11/site-packages (from thinc<8.3.0,>=8.2.2->spacy) (0.7.11)\n",
      "Requirement already satisfied: confection<1.0.0,>=0.0.1 in /opt/homebrew/lib/python3.11/site-packages (from thinc<8.3.0,>=8.2.2->spacy) (0.1.5)\n",
      "Requirement already satisfied: click>=8.0.0 in /opt/homebrew/lib/python3.11/site-packages (from typer<1.0.0,>=0.3.0->spacy) (8.1.7)\n",
      "Requirement already satisfied: shellingham>=1.3.0 in /opt/homebrew/lib/python3.11/site-packages (from typer<1.0.0,>=0.3.0->spacy) (1.5.4)\n",
      "Requirement already satisfied: rich>=10.11.0 in /opt/homebrew/lib/python3.11/site-packages (from typer<1.0.0,>=0.3.0->spacy) (13.7.1)\n",
      "Requirement already satisfied: cloudpathlib<1.0.0,>=0.7.0 in /opt/homebrew/lib/python3.11/site-packages (from weasel<0.5.0,>=0.1.0->spacy) (0.18.1)\n",
      "Requirement already satisfied: smart-open<8.0.0,>=5.2.1 in /opt/homebrew/lib/python3.11/site-packages (from weasel<0.5.0,>=0.1.0->spacy) (7.0.4)\n",
      "Requirement already satisfied: MarkupSafe>=2.0 in /opt/homebrew/lib/python3.11/site-packages (from jinja2->spacy) (2.1.3)\n",
      "Requirement already satisfied: marisa-trie>=0.7.7 in /opt/homebrew/lib/python3.11/site-packages (from language-data>=1.2->langcodes<4.0.0,>=3.2.0->spacy) (1.2.0)\n",
      "Requirement already satisfied: markdown-it-py>=2.2.0 in /opt/homebrew/lib/python3.11/site-packages (from rich>=10.11.0->typer<1.0.0,>=0.3.0->spacy) (3.0.0)\n",
      "Requirement already satisfied: pygments<3.0.0,>=2.13.0 in /opt/homebrew/lib/python3.11/site-packages (from rich>=10.11.0->typer<1.0.0,>=0.3.0->spacy) (2.17.2)\n",
      "Requirement already satisfied: wrapt in /opt/homebrew/lib/python3.11/site-packages (from smart-open<8.0.0,>=5.2.1->weasel<0.5.0,>=0.1.0->spacy) (1.16.0)\n",
      "Requirement already satisfied: mdurl~=0.1 in /opt/homebrew/lib/python3.11/site-packages (from markdown-it-py>=2.2.0->rich>=10.11.0->typer<1.0.0,>=0.3.0->spacy) (0.1.2)\n",
      "\n",
      "\u001b[1m[\u001b[0m\u001b[34;49mnotice\u001b[0m\u001b[1;39;49m]\u001b[0m\u001b[39;49m A new release of pip is available: \u001b[0m\u001b[31;49m24.0\u001b[0m\u001b[39;49m -> \u001b[0m\u001b[32;49m24.1.2\u001b[0m\n",
      "\u001b[1m[\u001b[0m\u001b[34;49mnotice\u001b[0m\u001b[1;39;49m]\u001b[0m\u001b[39;49m To update, run: \u001b[0m\u001b[32;49mpython3.11 -m pip install --upgrade pip\u001b[0m\n",
      "Note: you may need to restart the kernel to use updated packages.\n"
     ]
    }
   ],
   "source": [
    "!pip install -U spacy"
   ]
  },
  {
   "cell_type": "code",
   "execution_count": null,
   "id": "6232b326-9a53-4108-ac83-77e6c49385e7",
   "metadata": {},
   "outputs": [],
   "source": [
    "python3 -m venv path/to/venv\n",
    "source path/to/venv/bin/activate\n",
    "python3 -m pip install spacy"
   ]
  },
  {
   "cell_type": "code",
   "execution_count": null,
   "id": "bd82e66a-6f79-48e3-97df-9e638827bccd",
   "metadata": {},
   "outputs": [],
   "source": [
    "!python3.11 -m spacy download en_core_web_sm"
   ]
  },
  {
   "cell_type": "code",
   "execution_count": null,
   "id": "54783d04-54ea-459c-8572-12ea40610c78",
   "metadata": {},
   "outputs": [],
   "source": [
    "# load spacy model"
   ]
  },
  {
   "cell_type": "code",
   "execution_count": 16,
   "id": "a64f47b5-11f9-4082-932f-97b2e4309bb3",
   "metadata": {},
   "outputs": [],
   "source": [
    "import spacy\n",
    "from spacy.training import Example\n",
    "from spacy.tokens import DocBin\n",
    "\n",
    "nlp = spacy.load(\"en_core_web_sm\")\n",
    "\n",
    "# entity labels\n",
    "LABELS = [\"SYMPTOM\", \"ADDRESS\"]\n",
    "for label in LABELS:\n",
    "    if label not in nlp.pipe_labels['ner']:\n",
    "        nlp.get_pipe(\"ner\").add_label(label)\n"
   ]
  },
  {
   "cell_type": "code",
   "execution_count": 57,
   "id": "9e3deaa3-f19b-4546-a55d-c02cdc064c4e",
   "metadata": {},
   "outputs": [
    {
     "name": "stdout",
     "output_type": "stream",
     "text": [
      "['ADDRESS', 'CARDINAL', 'DATE', 'EVENT', 'FAC', 'GPE', 'LANGUAGE', 'LAW', 'LOC', 'MONEY', 'NORP', 'ORDINAL', 'ORG', 'PERCENT', 'PERSON', 'PRODUCT', 'QUANTITY', 'SYMPTOM', 'TIME', 'WORK_OF_ART']\n"
     ]
    }
   ],
   "source": [
    "print(nlp.pipe_labels['ner'])"
   ]
  },
  {
   "cell_type": "code",
   "execution_count": null,
   "id": "f0e026a0-8067-4c43-9813-e3a503e883c3",
   "metadata": {},
   "outputs": [],
   "source": [
    "# train model"
   ]
  },
  {
   "cell_type": "code",
   "execution_count": 1,
   "id": "86e53927-5351-4460-877c-92911daaa788",
   "metadata": {},
   "outputs": [],
   "source": [
    "def generateTrainingScript(text, address, symptoms):\n",
    "    res = []\n",
    "    for addr in address:\n",
    "        start = text.find(addr)\n",
    "        end = start + len(addr)\n",
    "        res.append(tuple([start, end, \"ADDRESS\"])) \n",
    "    for symptom in symptoms:\n",
    "        start = text.find(symptom)\n",
    "        end = start + len(symptom)\n",
    "        res.append(tuple([start, end, \"SYMPTOM\"]))\n",
    "    entities = {\"entities\": res}\n",
    "    return tuple([text, entities])"
   ]
  },
  {
   "cell_type": "code",
   "execution_count": 58,
   "id": "782a4cdd-a2b6-44c7-9b19-a2718e6bff1e",
   "metadata": {},
   "outputs": [],
   "source": [
    "TRAIN_DATA = []\n",
    "\n",
    "TRAIN_DATA.append(generateTrainingScript(\"Patient has severe chest pain and difficulty breathing\", [], [\"severe chest pain\", \"difficulty breathing\"]))\n",
    "TRAIN_DATA.append(generateTrainingScript(\"Patient reports headache and nausea\", [], [\"headache\", \"nausea\"]))\n",
    "TRAIN_DATA.append(generateTrainingScript(\"There is an emergency at 123 Main St\", [\"123 Main St\"], []))\n",
    "TRAIN_DATA.append(generateTrainingScript(\"Urgent: 456 Oak Ave needs immediate assistance.\", [\"456 Oak Ave\"], []))\n",
    "TRAIN_DATA.append(generateTrainingScript(\"Emergency at 789 Elm St. The patient is experiencing severe abdominal pain and dizziness.\", [\"789 Elm St\"], [\"severe abdominal pain\", \"dizziness\"]))\n",
    "TRAIN_DATA.append(generateTrainingScript(\"At 321 Maple Rd, the patient is suffering from intense back pain and fainting spells.\",[\"321 Maple Rd\"], [\"intense back pain\", \"fainting spells\"]))\n",
    "TRAIN_DATA.append(generateTrainingScript(\"There's an urgent situation at 23 Maple Lane.\",[\"23 Maple Lane\"], []))\n",
    "TRAIN_DATA.append(generateTrainingScript(\"Immediate assistance needed at 56 Oak Street.\",[\"56 Oak Street\"], []))\n",
    "TRAIN_DATA.append(generateTrainingScript(\"Emergency reported at 89 Elm Avenue\",[\"89 Elm Avenue\"], []))\n",
    "TRAIN_DATA.append(generateTrainingScript(\"We need help at 654 Cedar Court. Subject has sudden vision loss and numbness in limbs.\",[\"654 Cedar Court\"], [\"vision loss\", \"numbness in limbs\"]))\n",
    "TRAIN_DATA.append(generateTrainingScript(\"Urgent situation at 87 Pine Lane. The individual is reporting high fever and severe muscle cramps.\",[\"87 Pine Lane\"], [\"high fever\", \"severe muscle cramps\"]))\n",
    "TRAIN_DATA.append(generateTrainingScript(\"The situation at 246 Willow Drive demands immediate attention. Victim shows signs of stroke with slurred speech and paralysis.\",[\"246 Willow Drive\"], [\"stroke\", \"slurred speech\", \"paralysis\"]))\n",
    "TRAIN_DATA.append(generateTrainingScript(\"Reporting from 135 Spruce Avenue. The patient is exhibiting signs of an allergic reaction with swelling and difficulty breathing.\",[\"135 Spruce Avenue\"], [\"allergic reaction\", \"swelling\", \"difficulty breathing\"]))\n",
    "TRAIN_DATA.append(generateTrainingScript(\"Person is experiencing severe chest tightness and rapid heartbeat.\",[], [\"severe chest tightness\", \"rapid heartbeat\"]))\n",
    "TRAIN_DATA.append(generateTrainingScript(\"At 90 Aspen Way, the casualty is suffering from severe abdominal pain.\",[\"90 Aspen Way\"], [\"severe abdominal pain\"]))\n",
    "TRAIN_DATA.append(generateTrainingScript(\"Immediate help required at 234 Beach Road, Houston Texas. Individual is experiencing shortness of breath and chest discomfort.\",[\"234 Beach Road, Houston Texas\"], [\"shortness of breath\", \"chest discomfort\"]))\n",
    "TRAIN_DATA.append(generateTrainingScript(\"There's an emergency at 801 Magnolia Avenue New York City. The person is suffering from cardiac arrest.\",[\"801 Magnolia Avenue New York City\"], [\"cardiac arrest\"]))\n",
    "TRAIN_DATA.append(generateTrainingScript(\"At 456 Pine Drive San Francisco, the injured party reports sudden unconsciousness.\",[\"456 Pine Drive San Francisco\"], [\"unconsciousness\"]))\n",
    "TRAIN_DATA.append(generateTrainingScript(\"Emergency at 987 Sunflower Lane Sacramento, California. The individual is experiencing intense abdominal pain.\",[\"987 Sunflower Lane Sacramento, California\"], [\"intense abdominal pain\"]))\n",
    "TRAIN_DATA.append(generateTrainingScript(\"We need assistance at 234 Ivy Court on the second floor of the apartment building. The patient has is not breathing.\",[\"234 Ivy Court\"], [\"not breathing\"]))\n",
    "TRAIN_DATA.append(generateTrainingScript(\"The situation at 567 Rosewood Avenue demands immediate attention. Victim shows signs of severe allergic reaction with swelling and difficulty breathing.\",[\"567 Rosewood Avenue\"], [\"severe allergic reaction\", \"swelling\", \"difficulty breathing\"]))\n",
    "TRAIN_DATA.append(generateTrainingScript(\"Reporting from 345 Redwood Lane. The person is showing signs of cardiac distress with chest pain and sweating.\",[\"345 Redwood Lane\"], [\"cardiac distress\", \"chest pain\", \"sweating\"]))\n",
    "TRAIN_DATA.append(generateTrainingScript(\"Calling from 678 Cedar Street. Individual is experiencing severe dizziness and loss of consciousness.\",[\"678 Cedar Street\"], [\"severe dizziness\", \"loss of consciousness\"]))\n",
    "TRAIN_DATA.append(generateTrainingScript(\"At 901 Pine Avenue, the patient is having severe abdominal pain and vomiting. They lost consciousness.\",[\"901 Pine Avenue\"], [\"severe abdominal pain\", \"vomiting\", \"lost consciousness\"]))\n",
    "TRAIN_DATA.append(generateTrainingScript(\"Emergency at 23 Willow Road. The victim has severe headache and confusion.\",[\"23 Willow Road\"], [\"severe headache\", \"confusion\"]))\n",
    "TRAIN_DATA.append(generateTrainingScript(\"Immediate help required at 432 Lakeview Drive. Person is experiencing shortness of breath and chest discomfort.\",[\"432 Lakeview Drive\"], [\"shortness of breath\", \"chest discomfort\"]))\n",
    "TRAIN_DATA.append(generateTrainingScript(\"There's an urgent situation at 789 Birch Avenue. The individual is suffering from severe back pain and weakness in legs.\",[\"789 Birch Avenue\"], [\"severe back pain\", \"weakness in legs\"]))\n",
    "TRAIN_DATA.append(generateTrainingScript(\"At 56 Oak Street, the injured party reports sudden onset of numbness in arms and slurred speech.\",[\"56 Oak Street\"], [\"numbness in arms\", \"slurred speech\"]))\n",
    "TRAIN_DATA.append(generateTrainingScript(\"Emergency at 189 Elm Avenue. The patient is experiencing intense abdominal pain and nausea.\",[\"189 Elm Avenue\"], [\"intense abdominal pain\", \"nausea\"]))\n",
    "TRAIN_DATA.append(generateTrainingScript(\"We need assistance at 734 Ivy Court. The person has severe migraine with visual disturbances.\",[\"734 Ivy Court\"], [\"severe migraine\", \"visual disturbances\"]))\n",
    "TRAIN_DATA.append(generateTrainingScript(\"The situation at 57 Rosewood Avenue demands immediate attention. Victim shows signs of severe allergic reaction with swelling and difficulty breathing.\",[\"57 Rosewood Avenue\"], [\"severe allergic reaction\", \"swelling\", \"difficulty breathing\"]))\n",
    "TRAIN_DATA.append(generateTrainingScript(\"Reporting from 390 Redwood Lane. The person is showing signs of cardiac distress with chest pain.\",[\"390 Redwood Lane\"], [\"cardiac distress\", \"chest pain\"]))\n",
    "TRAIN_DATA.append(generateTrainingScript(\"Calling from 678 Cedar Street. Individual is experiencing severe dizziness and loss of consciousness.\",[\"678 Cedar Street\"], [\"severe dizziness\", \"loss of consciousness\"]))\n",
    "TRAIN_DATA.append(generateTrainingScript(\"Reporting from 390 Redwood Lane. The person is showing signs of cardiac distress with chest pain.\",[\"390 Redwood Lane\"], [\"cardiac distress\", \"chest pain\"]))\n",
    "TRAIN_DATA.append(generateTrainingScript(\"Emergency at 23 Willow Road. The victim has severe headache and confusion.\",[\"23 Willow Road\"], [\"severe headache\", \"confusion\"]))\n",
    "TRAIN_DATA.append(generateTrainingScript(\"Immediate help required at 432 Lakeview Drive. Person is experiencing shortness of breath and chest discomfort.\",[\"432 Lakeview Drive\"], [\"shortness of breath\", \"chest discomfort\"]))\n",
    "TRAIN_DATA.append(generateTrainingScript(\"There's an urgent situation at 789 Birch Avenue. The individual is suffering from severe back pain and weakness in legs.\",[\"789 Birch Avenue\"], [\"severe back pain\", \"weakness in legs\"]))\n",
    "TRAIN_DATA.append(generateTrainingScript(\"At 56 Oak Street, the injured party reports sudden onset of numbness in arms and slurred speech.\",[\"56 Oak Street\"], [\"numbness in arms\", \"slurred speech\"]))\n",
    "TRAIN_DATA.append(generateTrainingScript(\"Emergency at 189 Elm Avenue. The patient is experiencing intense abdominal pain and nausea.\",[\"189 Elm Avenue\"], [\"intense abdominal pain\", \"nausea\"]))\n",
    "TRAIN_DATA.append(generateTrainingScript(\"accident on 44 Beaver Dam Road San Francisco. The victim is bleeding all over, barely conscious\",[\"44 Beaver Dam Road San Francisco\"], [\"bleeding\", \"barely conscious\"]))\n",
    "TRAIN_DATA.append(generateTrainingScript(\"Someone is having a seizure, on 70 Holly Drive, Apartment 4B. You have to get in through the back door.\",[\"70 Holly Drive, Apartment 4B\"], [\"seizure\"]))\n",
    "TRAIN_DATA.append(generateTrainingScript(\"Someone is having a heart attack 1043 Centennial Avenue in Los Angeles\",[\"1043 Centennial Avenue\", \"Los Angeles\"], [\"heart attack\"]))\n",
    "TRAIN_DATA.append(generateTrainingScript(\"Victim of dog attack on cross section of 46 East St and Madison Avenue. Victim is bleeding out\",[\"cross section of 46 East St and Madison Avenue\"], [\"bleeding out\"]))\n",
    "TRAIN_DATA.append(generateTrainingScript(\"Shark attack on the pier of Santa Monica 100 Eagle Rd. Patient bleeding out and suffering from hypothermia\",[\"Santa Monica 100 Eagle Rd\"], [\"bleeding out\", \"hypothermia\"]))\n",
    "TRAIN_DATA.append(generateTrainingScript(\"Elderly woman fell and currently unconscious. Inside her home at 34 Hunter Creek Rd in Sylvania\",[\"34 Hunter Creek Rd in Sylvania\"], [\"unconscious\"]))\n",
    "TRAIN_DATA.append(generateTrainingScript(\"Child lost consciousness after eating peanut butter. He is unconscious inside the school cafeteria at 18 Quail Run Drive\",[\"18 Quail Run Drive\"], [\"lost consciousness\", \"unconscious\"]))\n",
    "# print(TRAIN_DATA)"
   ]
  },
  {
   "cell_type": "code",
   "execution_count": 59,
   "id": "cd8f2f6e-5d27-4bcf-99f6-54b1018f9957",
   "metadata": {},
   "outputs": [
    {
     "name": "stdout",
     "output_type": "stream",
     "text": [
      "[('patient has severe chest pain and difficulty breathing', {'entities': [(12, 29, 'SYMPTOM'), (34, 54, 'SYMPTOM')]}), ('patient reports headache and nausea', {'entities': [(16, 24, 'SYMPTOM'), (29, 35, 'SYMPTOM')]}), ('there is an emergency at 123 main st', {'entities': [(25, 36, 'ADDRESS')]}), ('urgent: 456 oak ave needs immediate assistance.', {'entities': [(8, 19, 'ADDRESS')]}), ('emergency at 789 elm st. the patient is experiencing severe abdominal pain and dizziness.', {'entities': [(13, 23, 'ADDRESS'), (53, 74, 'SYMPTOM'), (79, 88, 'SYMPTOM')]}), ('at 321 maple rd, the patient is suffering from intense back pain and fainting spells.', {'entities': [(3, 15, 'ADDRESS'), (47, 64, 'SYMPTOM'), (69, 84, 'SYMPTOM')]}), (\"there's an urgent situation at 23 maple lane.\", {'entities': [(31, 44, 'ADDRESS')]}), ('immediate assistance needed at 56 oak street.', {'entities': [(31, 44, 'ADDRESS')]}), ('emergency reported at 89 elm avenue', {'entities': [(22, 35, 'ADDRESS')]}), ('we need help at 654 cedar court. subject has sudden vision loss and numbness in limbs.', {'entities': [(16, 31, 'ADDRESS'), (52, 63, 'SYMPTOM'), (68, 85, 'SYMPTOM')]}), ('urgent situation at 87 pine lane. the individual is reporting high fever and severe muscle cramps.', {'entities': [(20, 32, 'ADDRESS'), (62, 72, 'SYMPTOM'), (77, 97, 'SYMPTOM')]}), ('the situation at 246 willow drive demands immediate attention. victim shows signs of stroke with slurred speech and paralysis.', {'entities': [(17, 33, 'ADDRESS'), (85, 91, 'SYMPTOM'), (97, 111, 'SYMPTOM'), (116, 125, 'SYMPTOM')]}), ('reporting from 135 spruce avenue. the patient is exhibiting signs of an allergic reaction with swelling and difficulty breathing.', {'entities': [(15, 32, 'ADDRESS'), (72, 89, 'SYMPTOM'), (95, 103, 'SYMPTOM'), (108, 128, 'SYMPTOM')]}), ('person is experiencing severe chest tightness and rapid heartbeat.', {'entities': [(23, 45, 'SYMPTOM'), (50, 65, 'SYMPTOM')]}), ('at 90 aspen way, the casualty is suffering from severe abdominal pain.', {'entities': [(3, 15, 'ADDRESS'), (48, 69, 'SYMPTOM')]}), ('immediate help required at 234 beach road, houston texas. individual is experiencing shortness of breath and chest discomfort.', {'entities': [(27, 56, 'ADDRESS'), (85, 104, 'SYMPTOM'), (109, 125, 'SYMPTOM')]}), (\"there's an emergency at 801 magnolia avenue new york city. the person is suffering from cardiac arrest.\", {'entities': [(24, 57, 'ADDRESS'), (88, 102, 'SYMPTOM')]}), ('at 456 pine drive san francisco, the injured party reports sudden unconsciousness.', {'entities': [(3, 31, 'ADDRESS'), (66, 81, 'SYMPTOM')]}), ('emergency at 987 sunflower lane sacramento, california. the individual is experiencing intense abdominal pain.', {'entities': [(13, 54, 'ADDRESS'), (87, 109, 'SYMPTOM')]}), ('we need assistance at 234 ivy court on the second floor of the apartment building. the patient has is not breathing.', {'entities': [(22, 35, 'ADDRESS'), (102, 115, 'SYMPTOM')]}), ('the situation at 567 rosewood avenue demands immediate attention. victim shows signs of severe allergic reaction with swelling and difficulty breathing.', {'entities': [(17, 36, 'ADDRESS'), (88, 112, 'SYMPTOM'), (118, 126, 'SYMPTOM'), (131, 151, 'SYMPTOM')]}), ('reporting from 345 redwood lane. the person is showing signs of cardiac distress with chest pain and sweating.', {'entities': [(15, 31, 'ADDRESS'), (64, 80, 'SYMPTOM'), (86, 96, 'SYMPTOM'), (101, 109, 'SYMPTOM')]}), ('calling from 678 cedar street. individual is experiencing severe dizziness and loss of consciousness.', {'entities': [(13, 29, 'ADDRESS'), (58, 74, 'SYMPTOM'), (79, 100, 'SYMPTOM')]}), ('at 901 pine avenue, the patient is having severe abdominal pain and vomiting. they lost consciousness.', {'entities': [(3, 18, 'ADDRESS'), (42, 63, 'SYMPTOM'), (68, 76, 'SYMPTOM'), (83, 101, 'SYMPTOM')]}), ('emergency at 23 willow road. the victim has severe headache and confusion.', {'entities': [(13, 27, 'ADDRESS'), (44, 59, 'SYMPTOM'), (64, 73, 'SYMPTOM')]}), ('immediate help required at 432 lakeview drive. person is experiencing shortness of breath and chest discomfort.', {'entities': [(27, 45, 'ADDRESS'), (70, 89, 'SYMPTOM'), (94, 110, 'SYMPTOM')]}), (\"there's an urgent situation at 789 birch avenue. the individual is suffering from severe back pain and weakness in legs.\", {'entities': [(31, 47, 'ADDRESS'), (82, 98, 'SYMPTOM'), (103, 119, 'SYMPTOM')]}), ('at 56 oak street, the injured party reports sudden onset of numbness in arms and slurred speech.', {'entities': [(3, 16, 'ADDRESS'), (60, 76, 'SYMPTOM'), (81, 95, 'SYMPTOM')]}), ('emergency at 189 elm avenue. the patient is experiencing intense abdominal pain and nausea.', {'entities': [(13, 27, 'ADDRESS'), (57, 79, 'SYMPTOM'), (84, 90, 'SYMPTOM')]}), ('we need assistance at 734 ivy court. the person has severe migraine with visual disturbances.', {'entities': [(22, 35, 'ADDRESS'), (52, 67, 'SYMPTOM'), (73, 92, 'SYMPTOM')]}), ('the situation at 57 rosewood avenue demands immediate attention. victim shows signs of severe allergic reaction with swelling and difficulty breathing.', {'entities': [(17, 35, 'ADDRESS'), (87, 111, 'SYMPTOM'), (117, 125, 'SYMPTOM'), (130, 150, 'SYMPTOM')]}), ('reporting from 390 redwood lane. the person is showing signs of cardiac distress with chest pain.', {'entities': [(15, 31, 'ADDRESS'), (64, 80, 'SYMPTOM'), (86, 96, 'SYMPTOM')]}), ('calling from 678 cedar street. individual is experiencing severe dizziness and loss of consciousness.', {'entities': [(13, 29, 'ADDRESS'), (58, 74, 'SYMPTOM'), (79, 100, 'SYMPTOM')]}), ('reporting from 390 redwood lane. the person is showing signs of cardiac distress with chest pain.', {'entities': [(15, 31, 'ADDRESS'), (64, 80, 'SYMPTOM'), (86, 96, 'SYMPTOM')]}), ('emergency at 23 willow road. the victim has severe headache and confusion.', {'entities': [(13, 27, 'ADDRESS'), (44, 59, 'SYMPTOM'), (64, 73, 'SYMPTOM')]}), ('immediate help required at 432 lakeview drive. person is experiencing shortness of breath and chest discomfort.', {'entities': [(27, 45, 'ADDRESS'), (70, 89, 'SYMPTOM'), (94, 110, 'SYMPTOM')]}), (\"there's an urgent situation at 789 birch avenue. the individual is suffering from severe back pain and weakness in legs.\", {'entities': [(31, 47, 'ADDRESS'), (82, 98, 'SYMPTOM'), (103, 119, 'SYMPTOM')]}), ('at 56 oak street, the injured party reports sudden onset of numbness in arms and slurred speech.', {'entities': [(3, 16, 'ADDRESS'), (60, 76, 'SYMPTOM'), (81, 95, 'SYMPTOM')]}), ('emergency at 189 elm avenue. the patient is experiencing intense abdominal pain and nausea.', {'entities': [(13, 27, 'ADDRESS'), (57, 79, 'SYMPTOM'), (84, 90, 'SYMPTOM')]}), ('accident on 44 beaver dam road san francisco. the victim is bleeding all over, barely conscious', {'entities': [(12, 44, 'ADDRESS'), (60, 68, 'SYMPTOM'), (79, 95, 'SYMPTOM')]}), ('someone is having a seizure, on 70 holly drive, apartment 4b. you have to get in through the back door.', {'entities': [(32, 60, 'ADDRESS'), (20, 27, 'SYMPTOM')]}), ('someone is having a heart attack 1043 centennial avenue in los angeles', {'entities': [(33, 55, 'ADDRESS'), (59, 70, 'ADDRESS'), (20, 32, 'SYMPTOM')]}), ('victim of dog attack on cross section of 46 east st and madison avenue. victim is bleeding out', {'entities': [(24, 70, 'ADDRESS'), (82, 94, 'SYMPTOM')]}), ('shark attack on the pier of santa monica 100 eagle rd. patient bleeding out and suffering from hypothermia', {'entities': [(28, 53, 'ADDRESS'), (63, 75, 'SYMPTOM'), (95, 106, 'SYMPTOM')]}), ('elderly woman fell and currently unconscious. inside her home at 34 hunter creek rd in sylvania', {'entities': [(65, 95, 'ADDRESS'), (33, 44, 'SYMPTOM')]}), ('child lost consciousness after eating peanut butter. he is unconscious inside the school cafeteria at 18 quail run drive', {'entities': [(102, 120, 'ADDRESS'), (6, 24, 'SYMPTOM'), (59, 70, 'SYMPTOM')]})]\n"
     ]
    }
   ],
   "source": [
    "# Convert training data to lower case\n",
    "def preprocess_train_data(train_data):\n",
    "    processed_data = []\n",
    "    for text, annotations in train_data:\n",
    "        # Convert text to lower case\n",
    "        lower_text = text.lower()\n",
    "        # Convert entity annotations to lower case\n",
    "        lower_entities = [(start, end, label) for start, end, label in annotations.get('entities')]\n",
    "        processed_data.append((lower_text, {'entities': lower_entities}))\n",
    "    return processed_data\n",
    "\n",
    "# Preprocessed training data\n",
    "TRAIN_DATA = preprocess_train_data(TRAIN_DATA)\n",
    "print(TRAIN_DATA)"
   ]
  },
  {
   "cell_type": "code",
   "execution_count": 60,
   "id": "ae516ffd-bcd6-4249-8912-78d011e2267b",
   "metadata": {},
   "outputs": [],
   "source": [
    "model = None\n",
    "n_iter=100"
   ]
  },
  {
   "cell_type": "code",
   "execution_count": 61,
   "id": "78fa52ac-3861-4461-acc7-a037bbf87809",
   "metadata": {},
   "outputs": [
    {
     "name": "stdout",
     "output_type": "stream",
     "text": [
      "Created blank 'en' model\n"
     ]
    }
   ],
   "source": [
    "#load the model\n",
    "import spacy \n",
    "if model is not None:\n",
    "    nlp = spacy.load(model)  \n",
    "    print(\"Loaded model '%s'\" % model)\n",
    "else:\n",
    "    nlp = spacy.blank('en')  \n",
    "    print(\"Created blank 'en' model\")\n",
    "\n",
    "#set up the pipeline"
   ]
  },
  {
   "cell_type": "code",
   "execution_count": 67,
   "id": "ede88974-eaab-44b1-86d4-1ca013bf80b2",
   "metadata": {},
   "outputs": [
    {
     "name": "stdout",
     "output_type": "stream",
     "text": [
      "Collecting plac\n",
      "  Downloading plac-1.4.3-py2.py3-none-any.whl.metadata (5.9 kB)\n",
      "Downloading plac-1.4.3-py2.py3-none-any.whl (22 kB)\n",
      "Installing collected packages: plac\n",
      "Successfully installed plac-1.4.3\n",
      "\n",
      "\u001b[1m[\u001b[0m\u001b[34;49mnotice\u001b[0m\u001b[1;39;49m]\u001b[0m\u001b[39;49m A new release of pip is available: \u001b[0m\u001b[31;49m24.0\u001b[0m\u001b[39;49m -> \u001b[0m\u001b[32;49m24.1.2\u001b[0m\n",
      "\u001b[1m[\u001b[0m\u001b[34;49mnotice\u001b[0m\u001b[1;39;49m]\u001b[0m\u001b[39;49m To update, run: \u001b[0m\u001b[32;49mpython3.11 -m pip install --upgrade pip\u001b[0m\n"
     ]
    }
   ],
   "source": [
    "!pip install plac"
   ]
  },
  {
   "cell_type": "code",
   "execution_count": 62,
   "id": "8da2a4f3-ef5b-423b-98ef-2f2cac18f995",
   "metadata": {},
   "outputs": [],
   "source": [
    "from __future__ import unicode_literals, print_function\n",
    "import plac\n",
    "import random\n",
    "from pathlib import Path\n",
    "import spacy\n",
    "from tqdm import tqdm\n",
    "from spacy.training import Example"
   ]
  },
  {
   "cell_type": "code",
   "execution_count": 63,
   "id": "4e515776-9884-45c5-83af-29827cd34b90",
   "metadata": {},
   "outputs": [
    {
     "name": "stderr",
     "output_type": "stream",
     "text": [
      "100%|█████████████████████████████████████████████████████████████████| 46/46 [00:00<00:00, 134.55it/s]\n"
     ]
    },
    {
     "name": "stdout",
     "output_type": "stream",
     "text": [
      "{'ner': 305.3728275052599}\n"
     ]
    },
    {
     "name": "stderr",
     "output_type": "stream",
     "text": [
      "100%|█████████████████████████████████████████████████████████████████| 46/46 [00:00<00:00, 135.54it/s]\n"
     ]
    },
    {
     "name": "stdout",
     "output_type": "stream",
     "text": [
      "{'ner': 203.50987978964764}\n"
     ]
    },
    {
     "name": "stderr",
     "output_type": "stream",
     "text": [
      "100%|█████████████████████████████████████████████████████████████████| 46/46 [00:00<00:00, 134.82it/s]\n"
     ]
    },
    {
     "name": "stdout",
     "output_type": "stream",
     "text": [
      "{'ner': 135.65373452551427}\n"
     ]
    },
    {
     "name": "stderr",
     "output_type": "stream",
     "text": [
      "100%|█████████████████████████████████████████████████████████████████| 46/46 [00:00<00:00, 137.82it/s]\n"
     ]
    },
    {
     "name": "stdout",
     "output_type": "stream",
     "text": [
      "{'ner': 89.40297197564912}\n"
     ]
    },
    {
     "name": "stderr",
     "output_type": "stream",
     "text": [
      "100%|█████████████████████████████████████████████████████████████████| 46/46 [00:00<00:00, 138.44it/s]\n"
     ]
    },
    {
     "name": "stdout",
     "output_type": "stream",
     "text": [
      "{'ner': 53.47898056656116}\n"
     ]
    },
    {
     "name": "stderr",
     "output_type": "stream",
     "text": [
      "100%|█████████████████████████████████████████████████████████████████| 46/46 [00:00<00:00, 139.62it/s]\n"
     ]
    },
    {
     "name": "stdout",
     "output_type": "stream",
     "text": [
      "{'ner': 42.77391062024647}\n"
     ]
    },
    {
     "name": "stderr",
     "output_type": "stream",
     "text": [
      "100%|█████████████████████████████████████████████████████████████████| 46/46 [00:00<00:00, 138.62it/s]\n"
     ]
    },
    {
     "name": "stdout",
     "output_type": "stream",
     "text": [
      "{'ner': 23.888579324593316}\n"
     ]
    },
    {
     "name": "stderr",
     "output_type": "stream",
     "text": [
      "100%|█████████████████████████████████████████████████████████████████| 46/46 [00:00<00:00, 140.04it/s]\n"
     ]
    },
    {
     "name": "stdout",
     "output_type": "stream",
     "text": [
      "{'ner': 21.373040679429796}\n"
     ]
    },
    {
     "name": "stderr",
     "output_type": "stream",
     "text": [
      "100%|█████████████████████████████████████████████████████████████████| 46/46 [00:00<00:00, 140.59it/s]\n"
     ]
    },
    {
     "name": "stdout",
     "output_type": "stream",
     "text": [
      "{'ner': 17.873549794479164}\n"
     ]
    },
    {
     "name": "stderr",
     "output_type": "stream",
     "text": [
      "100%|█████████████████████████████████████████████████████████████████| 46/46 [00:00<00:00, 138.63it/s]\n"
     ]
    },
    {
     "name": "stdout",
     "output_type": "stream",
     "text": [
      "{'ner': 23.119598745329565}\n"
     ]
    },
    {
     "name": "stderr",
     "output_type": "stream",
     "text": [
      "100%|█████████████████████████████████████████████████████████████████| 46/46 [00:00<00:00, 140.36it/s]\n"
     ]
    },
    {
     "name": "stdout",
     "output_type": "stream",
     "text": [
      "{'ner': 9.722763185696325}\n"
     ]
    },
    {
     "name": "stderr",
     "output_type": "stream",
     "text": [
      "100%|█████████████████████████████████████████████████████████████████| 46/46 [00:00<00:00, 139.09it/s]\n"
     ]
    },
    {
     "name": "stdout",
     "output_type": "stream",
     "text": [
      "{'ner': 22.19782592140545}\n"
     ]
    },
    {
     "name": "stderr",
     "output_type": "stream",
     "text": [
      "100%|█████████████████████████████████████████████████████████████████| 46/46 [00:00<00:00, 138.28it/s]\n"
     ]
    },
    {
     "name": "stdout",
     "output_type": "stream",
     "text": [
      "{'ner': 10.939917954169728}\n"
     ]
    },
    {
     "name": "stderr",
     "output_type": "stream",
     "text": [
      "100%|█████████████████████████████████████████████████████████████████| 46/46 [00:00<00:00, 139.09it/s]\n"
     ]
    },
    {
     "name": "stdout",
     "output_type": "stream",
     "text": [
      "{'ner': 5.93523210254943}\n"
     ]
    },
    {
     "name": "stderr",
     "output_type": "stream",
     "text": [
      "100%|█████████████████████████████████████████████████████████████████| 46/46 [00:00<00:00, 139.88it/s]\n"
     ]
    },
    {
     "name": "stdout",
     "output_type": "stream",
     "text": [
      "{'ner': 8.942610386429267}\n"
     ]
    },
    {
     "name": "stderr",
     "output_type": "stream",
     "text": [
      "100%|█████████████████████████████████████████████████████████████████| 46/46 [00:00<00:00, 137.79it/s]\n"
     ]
    },
    {
     "name": "stdout",
     "output_type": "stream",
     "text": [
      "{'ner': 3.239246238359888}\n"
     ]
    },
    {
     "name": "stderr",
     "output_type": "stream",
     "text": [
      "100%|█████████████████████████████████████████████████████████████████| 46/46 [00:00<00:00, 142.96it/s]\n"
     ]
    },
    {
     "name": "stdout",
     "output_type": "stream",
     "text": [
      "{'ner': 7.77687973949904}\n"
     ]
    },
    {
     "name": "stderr",
     "output_type": "stream",
     "text": [
      "100%|█████████████████████████████████████████████████████████████████| 46/46 [00:00<00:00, 138.88it/s]\n"
     ]
    },
    {
     "name": "stdout",
     "output_type": "stream",
     "text": [
      "{'ner': 2.1076954967972843}\n"
     ]
    },
    {
     "name": "stderr",
     "output_type": "stream",
     "text": [
      "100%|█████████████████████████████████████████████████████████████████| 46/46 [00:00<00:00, 143.58it/s]\n"
     ]
    },
    {
     "name": "stdout",
     "output_type": "stream",
     "text": [
      "{'ner': 0.0056493224122638385}\n"
     ]
    },
    {
     "name": "stderr",
     "output_type": "stream",
     "text": [
      "100%|█████████████████████████████████████████████████████████████████| 46/46 [00:00<00:00, 135.64it/s]\n"
     ]
    },
    {
     "name": "stdout",
     "output_type": "stream",
     "text": [
      "{'ner': 4.783594370090618}\n"
     ]
    },
    {
     "name": "stderr",
     "output_type": "stream",
     "text": [
      "100%|█████████████████████████████████████████████████████████████████| 46/46 [00:00<00:00, 133.59it/s]\n"
     ]
    },
    {
     "name": "stdout",
     "output_type": "stream",
     "text": [
      "{'ner': 2.134982223623207}\n"
     ]
    },
    {
     "name": "stderr",
     "output_type": "stream",
     "text": [
      "100%|█████████████████████████████████████████████████████████████████| 46/46 [00:00<00:00, 138.82it/s]\n"
     ]
    },
    {
     "name": "stdout",
     "output_type": "stream",
     "text": [
      "{'ner': 1.2156814323785137}\n"
     ]
    },
    {
     "name": "stderr",
     "output_type": "stream",
     "text": [
      "100%|█████████████████████████████████████████████████████████████████| 46/46 [00:00<00:00, 141.30it/s]\n"
     ]
    },
    {
     "name": "stdout",
     "output_type": "stream",
     "text": [
      "{'ner': 2.6272492481711076}\n"
     ]
    },
    {
     "name": "stderr",
     "output_type": "stream",
     "text": [
      "100%|█████████████████████████████████████████████████████████████████| 46/46 [00:00<00:00, 134.30it/s]\n"
     ]
    },
    {
     "name": "stdout",
     "output_type": "stream",
     "text": [
      "{'ner': 0.8978842119436607}\n"
     ]
    },
    {
     "name": "stderr",
     "output_type": "stream",
     "text": [
      "100%|█████████████████████████████████████████████████████████████████| 46/46 [00:00<00:00, 137.94it/s]\n"
     ]
    },
    {
     "name": "stdout",
     "output_type": "stream",
     "text": [
      "{'ner': 3.9384978286567445}\n"
     ]
    },
    {
     "name": "stderr",
     "output_type": "stream",
     "text": [
      "100%|█████████████████████████████████████████████████████████████████| 46/46 [00:00<00:00, 142.29it/s]\n"
     ]
    },
    {
     "name": "stdout",
     "output_type": "stream",
     "text": [
      "{'ner': 2.6436269941810426}\n"
     ]
    },
    {
     "name": "stderr",
     "output_type": "stream",
     "text": [
      "100%|█████████████████████████████████████████████████████████████████| 46/46 [00:00<00:00, 134.51it/s]\n"
     ]
    },
    {
     "name": "stdout",
     "output_type": "stream",
     "text": [
      "{'ner': 6.412995103729581}\n"
     ]
    },
    {
     "name": "stderr",
     "output_type": "stream",
     "text": [
      "100%|█████████████████████████████████████████████████████████████████| 46/46 [00:00<00:00, 138.78it/s]\n"
     ]
    },
    {
     "name": "stdout",
     "output_type": "stream",
     "text": [
      "{'ner': 2.5915444192784345}\n"
     ]
    },
    {
     "name": "stderr",
     "output_type": "stream",
     "text": [
      "100%|█████████████████████████████████████████████████████████████████| 46/46 [00:00<00:00, 142.76it/s]\n"
     ]
    },
    {
     "name": "stdout",
     "output_type": "stream",
     "text": [
      "{'ner': 7.514004310475472}\n"
     ]
    },
    {
     "name": "stderr",
     "output_type": "stream",
     "text": [
      "100%|█████████████████████████████████████████████████████████████████| 46/46 [00:00<00:00, 138.99it/s]\n"
     ]
    },
    {
     "name": "stdout",
     "output_type": "stream",
     "text": [
      "{'ner': 1.7928116457206378}\n"
     ]
    },
    {
     "name": "stderr",
     "output_type": "stream",
     "text": [
      "100%|█████████████████████████████████████████████████████████████████| 46/46 [00:00<00:00, 138.06it/s]\n"
     ]
    },
    {
     "name": "stdout",
     "output_type": "stream",
     "text": [
      "{'ner': 3.859103705145161}\n"
     ]
    },
    {
     "name": "stderr",
     "output_type": "stream",
     "text": [
      "100%|█████████████████████████████████████████████████████████████████| 46/46 [00:00<00:00, 140.90it/s]\n"
     ]
    },
    {
     "name": "stdout",
     "output_type": "stream",
     "text": [
      "{'ner': 4.110530966710327}\n"
     ]
    },
    {
     "name": "stderr",
     "output_type": "stream",
     "text": [
      "100%|█████████████████████████████████████████████████████████████████| 46/46 [00:00<00:00, 133.14it/s]\n"
     ]
    },
    {
     "name": "stdout",
     "output_type": "stream",
     "text": [
      "{'ner': 4.869675738066993}\n"
     ]
    },
    {
     "name": "stderr",
     "output_type": "stream",
     "text": [
      "100%|█████████████████████████████████████████████████████████████████| 46/46 [00:00<00:00, 134.68it/s]\n"
     ]
    },
    {
     "name": "stdout",
     "output_type": "stream",
     "text": [
      "{'ner': 5.135971225402363}\n"
     ]
    },
    {
     "name": "stderr",
     "output_type": "stream",
     "text": [
      "100%|█████████████████████████████████████████████████████████████████| 46/46 [00:00<00:00, 137.50it/s]\n"
     ]
    },
    {
     "name": "stdout",
     "output_type": "stream",
     "text": [
      "{'ner': 3.9397568344474463}\n"
     ]
    },
    {
     "name": "stderr",
     "output_type": "stream",
     "text": [
      "100%|█████████████████████████████████████████████████████████████████| 46/46 [00:00<00:00, 136.95it/s]\n"
     ]
    },
    {
     "name": "stdout",
     "output_type": "stream",
     "text": [
      "{'ner': 0.00980308372531716}\n"
     ]
    },
    {
     "name": "stderr",
     "output_type": "stream",
     "text": [
      "100%|█████████████████████████████████████████████████████████████████| 46/46 [00:00<00:00, 143.19it/s]\n"
     ]
    },
    {
     "name": "stdout",
     "output_type": "stream",
     "text": [
      "{'ner': 3.238256236326544}\n"
     ]
    },
    {
     "name": "stderr",
     "output_type": "stream",
     "text": [
      "100%|█████████████████████████████████████████████████████████████████| 46/46 [00:00<00:00, 137.63it/s]\n"
     ]
    },
    {
     "name": "stdout",
     "output_type": "stream",
     "text": [
      "{'ner': 6.062007352568241}\n"
     ]
    },
    {
     "name": "stderr",
     "output_type": "stream",
     "text": [
      "100%|█████████████████████████████████████████████████████████████████| 46/46 [00:00<00:00, 131.17it/s]\n"
     ]
    },
    {
     "name": "stdout",
     "output_type": "stream",
     "text": [
      "{'ner': 2.1956436028159616}\n"
     ]
    },
    {
     "name": "stderr",
     "output_type": "stream",
     "text": [
      "100%|█████████████████████████████████████████████████████████████████| 46/46 [00:00<00:00, 132.99it/s]\n"
     ]
    },
    {
     "name": "stdout",
     "output_type": "stream",
     "text": [
      "{'ner': 0.3074091780491419}\n"
     ]
    },
    {
     "name": "stderr",
     "output_type": "stream",
     "text": [
      "100%|█████████████████████████████████████████████████████████████████| 46/46 [00:00<00:00, 136.63it/s]\n"
     ]
    },
    {
     "name": "stdout",
     "output_type": "stream",
     "text": [
      "{'ner': 2.296201580307486}\n"
     ]
    },
    {
     "name": "stderr",
     "output_type": "stream",
     "text": [
      "100%|█████████████████████████████████████████████████████████████████| 46/46 [00:00<00:00, 136.14it/s]\n"
     ]
    },
    {
     "name": "stdout",
     "output_type": "stream",
     "text": [
      "{'ner': 0.005020235602869653}\n"
     ]
    },
    {
     "name": "stderr",
     "output_type": "stream",
     "text": [
      "100%|█████████████████████████████████████████████████████████████████| 46/46 [00:00<00:00, 136.08it/s]\n"
     ]
    },
    {
     "name": "stdout",
     "output_type": "stream",
     "text": [
      "{'ner': 0.4106222403644717}\n"
     ]
    },
    {
     "name": "stderr",
     "output_type": "stream",
     "text": [
      "100%|█████████████████████████████████████████████████████████████████| 46/46 [00:00<00:00, 136.17it/s]\n"
     ]
    },
    {
     "name": "stdout",
     "output_type": "stream",
     "text": [
      "{'ner': 0.0010099535541586893}\n"
     ]
    },
    {
     "name": "stderr",
     "output_type": "stream",
     "text": [
      "100%|█████████████████████████████████████████████████████████████████| 46/46 [00:00<00:00, 134.50it/s]\n"
     ]
    },
    {
     "name": "stdout",
     "output_type": "stream",
     "text": [
      "{'ner': 2.667502042153767}\n"
     ]
    },
    {
     "name": "stderr",
     "output_type": "stream",
     "text": [
      "100%|█████████████████████████████████████████████████████████████████| 46/46 [00:00<00:00, 130.92it/s]\n"
     ]
    },
    {
     "name": "stdout",
     "output_type": "stream",
     "text": [
      "{'ner': 3.8583170998547893}\n"
     ]
    },
    {
     "name": "stderr",
     "output_type": "stream",
     "text": [
      "100%|█████████████████████████████████████████████████████████████████| 46/46 [00:00<00:00, 134.88it/s]\n"
     ]
    },
    {
     "name": "stdout",
     "output_type": "stream",
     "text": [
      "{'ner': 8.276023733277081e-05}\n"
     ]
    },
    {
     "name": "stderr",
     "output_type": "stream",
     "text": [
      "100%|█████████████████████████████████████████████████████████████████| 46/46 [00:00<00:00, 137.12it/s]\n"
     ]
    },
    {
     "name": "stdout",
     "output_type": "stream",
     "text": [
      "{'ner': 4.904584833900238e-05}\n"
     ]
    },
    {
     "name": "stderr",
     "output_type": "stream",
     "text": [
      "100%|█████████████████████████████████████████████████████████████████| 46/46 [00:00<00:00, 134.73it/s]\n"
     ]
    },
    {
     "name": "stdout",
     "output_type": "stream",
     "text": [
      "{'ner': 4.17370355325009}\n"
     ]
    },
    {
     "name": "stderr",
     "output_type": "stream",
     "text": [
      "100%|█████████████████████████████████████████████████████████████████| 46/46 [00:00<00:00, 137.28it/s]\n"
     ]
    },
    {
     "name": "stdout",
     "output_type": "stream",
     "text": [
      "{'ner': 1.7620656129798387}\n"
     ]
    },
    {
     "name": "stderr",
     "output_type": "stream",
     "text": [
      "100%|█████████████████████████████████████████████████████████████████| 46/46 [00:00<00:00, 129.83it/s]\n"
     ]
    },
    {
     "name": "stdout",
     "output_type": "stream",
     "text": [
      "{'ner': 0.001455284116822129}\n"
     ]
    },
    {
     "name": "stderr",
     "output_type": "stream",
     "text": [
      "100%|█████████████████████████████████████████████████████████████████| 46/46 [00:00<00:00, 112.69it/s]\n"
     ]
    },
    {
     "name": "stdout",
     "output_type": "stream",
     "text": [
      "{'ner': 7.8383736985467864}\n"
     ]
    },
    {
     "name": "stderr",
     "output_type": "stream",
     "text": [
      "100%|█████████████████████████████████████████████████████████████████| 46/46 [00:00<00:00, 120.80it/s]\n"
     ]
    },
    {
     "name": "stdout",
     "output_type": "stream",
     "text": [
      "{'ner': 2.6399628747620034}\n"
     ]
    },
    {
     "name": "stderr",
     "output_type": "stream",
     "text": [
      "100%|█████████████████████████████████████████████████████████████████| 46/46 [00:00<00:00, 134.97it/s]\n"
     ]
    },
    {
     "name": "stdout",
     "output_type": "stream",
     "text": [
      "{'ner': 4.326630442676615}\n"
     ]
    },
    {
     "name": "stderr",
     "output_type": "stream",
     "text": [
      "100%|█████████████████████████████████████████████████████████████████| 46/46 [00:00<00:00, 122.42it/s]\n"
     ]
    },
    {
     "name": "stdout",
     "output_type": "stream",
     "text": [
      "{'ner': 4.703419749098473}\n"
     ]
    },
    {
     "name": "stderr",
     "output_type": "stream",
     "text": [
      "100%|█████████████████████████████████████████████████████████████████| 46/46 [00:00<00:00, 130.47it/s]\n"
     ]
    },
    {
     "name": "stdout",
     "output_type": "stream",
     "text": [
      "{'ner': 5.690649603017151}\n"
     ]
    },
    {
     "name": "stderr",
     "output_type": "stream",
     "text": [
      "100%|█████████████████████████████████████████████████████████████████| 46/46 [00:00<00:00, 124.42it/s]\n"
     ]
    },
    {
     "name": "stdout",
     "output_type": "stream",
     "text": [
      "{'ner': 2.0285734446827184}\n"
     ]
    },
    {
     "name": "stderr",
     "output_type": "stream",
     "text": [
      "100%|█████████████████████████████████████████████████████████████████| 46/46 [00:00<00:00, 127.05it/s]\n"
     ]
    },
    {
     "name": "stdout",
     "output_type": "stream",
     "text": [
      "{'ner': 5.965586740681723}\n"
     ]
    },
    {
     "name": "stderr",
     "output_type": "stream",
     "text": [
      "100%|█████████████████████████████████████████████████████████████████| 46/46 [00:00<00:00, 123.71it/s]\n"
     ]
    },
    {
     "name": "stdout",
     "output_type": "stream",
     "text": [
      "{'ner': 2.8553201372893153}\n"
     ]
    },
    {
     "name": "stderr",
     "output_type": "stream",
     "text": [
      "100%|█████████████████████████████████████████████████████████████████| 46/46 [00:00<00:00, 104.86it/s]\n"
     ]
    },
    {
     "name": "stdout",
     "output_type": "stream",
     "text": [
      "{'ner': 2.2437301513189425}\n"
     ]
    },
    {
     "name": "stderr",
     "output_type": "stream",
     "text": [
      "100%|█████████████████████████████████████████████████████████████████| 46/46 [00:00<00:00, 117.87it/s]\n"
     ]
    },
    {
     "name": "stdout",
     "output_type": "stream",
     "text": [
      "{'ner': 4.148955437843283}\n"
     ]
    },
    {
     "name": "stderr",
     "output_type": "stream",
     "text": [
      "100%|█████████████████████████████████████████████████████████████████| 46/46 [00:00<00:00, 125.01it/s]\n"
     ]
    },
    {
     "name": "stdout",
     "output_type": "stream",
     "text": [
      "{'ner': 7.969516793021379}\n"
     ]
    },
    {
     "name": "stderr",
     "output_type": "stream",
     "text": [
      "100%|█████████████████████████████████████████████████████████████████| 46/46 [00:00<00:00, 131.06it/s]\n"
     ]
    },
    {
     "name": "stdout",
     "output_type": "stream",
     "text": [
      "{'ner': 3.2595636029420336}\n"
     ]
    },
    {
     "name": "stderr",
     "output_type": "stream",
     "text": [
      "100%|█████████████████████████████████████████████████████████████████| 46/46 [00:00<00:00, 122.49it/s]\n"
     ]
    },
    {
     "name": "stdout",
     "output_type": "stream",
     "text": [
      "{'ner': 1.998449141171335}\n"
     ]
    },
    {
     "name": "stderr",
     "output_type": "stream",
     "text": [
      "100%|█████████████████████████████████████████████████████████████████| 46/46 [00:00<00:00, 128.15it/s]\n"
     ]
    },
    {
     "name": "stdout",
     "output_type": "stream",
     "text": [
      "{'ner': 1.3874685963386073}\n"
     ]
    },
    {
     "name": "stderr",
     "output_type": "stream",
     "text": [
      "100%|█████████████████████████████████████████████████████████████████| 46/46 [00:00<00:00, 114.45it/s]\n"
     ]
    },
    {
     "name": "stdout",
     "output_type": "stream",
     "text": [
      "{'ner': 1.891013931080729e-05}\n"
     ]
    },
    {
     "name": "stderr",
     "output_type": "stream",
     "text": [
      "100%|█████████████████████████████████████████████████████████████████| 46/46 [00:00<00:00, 134.95it/s]\n"
     ]
    },
    {
     "name": "stdout",
     "output_type": "stream",
     "text": [
      "{'ner': 2.0594827293671196}\n"
     ]
    },
    {
     "name": "stderr",
     "output_type": "stream",
     "text": [
      "100%|█████████████████████████████████████████████████████████████████| 46/46 [00:00<00:00, 132.68it/s]\n"
     ]
    },
    {
     "name": "stdout",
     "output_type": "stream",
     "text": [
      "{'ner': 6.518906122976629e-09}\n"
     ]
    },
    {
     "name": "stderr",
     "output_type": "stream",
     "text": [
      "100%|█████████████████████████████████████████████████████████████████| 46/46 [00:00<00:00, 118.52it/s]\n"
     ]
    },
    {
     "name": "stdout",
     "output_type": "stream",
     "text": [
      "{'ner': 0.7240198585510201}\n"
     ]
    },
    {
     "name": "stderr",
     "output_type": "stream",
     "text": [
      "100%|█████████████████████████████████████████████████████████████████| 46/46 [00:00<00:00, 122.64it/s]\n"
     ]
    },
    {
     "name": "stdout",
     "output_type": "stream",
     "text": [
      "{'ner': 8.740710854978287}\n"
     ]
    },
    {
     "name": "stderr",
     "output_type": "stream",
     "text": [
      "100%|█████████████████████████████████████████████████████████████████| 46/46 [00:00<00:00, 114.21it/s]\n"
     ]
    },
    {
     "name": "stdout",
     "output_type": "stream",
     "text": [
      "{'ner': 0.03181331768790574}\n"
     ]
    },
    {
     "name": "stderr",
     "output_type": "stream",
     "text": [
      "100%|█████████████████████████████████████████████████████████████████| 46/46 [00:00<00:00, 126.32it/s]\n"
     ]
    },
    {
     "name": "stdout",
     "output_type": "stream",
     "text": [
      "{'ner': 5.0620869271963205}\n"
     ]
    },
    {
     "name": "stderr",
     "output_type": "stream",
     "text": [
      "100%|█████████████████████████████████████████████████████████████████| 46/46 [00:00<00:00, 127.64it/s]\n"
     ]
    },
    {
     "name": "stdout",
     "output_type": "stream",
     "text": [
      "{'ner': 5.49056039393608}\n"
     ]
    },
    {
     "name": "stderr",
     "output_type": "stream",
     "text": [
      "100%|█████████████████████████████████████████████████████████████████| 46/46 [00:00<00:00, 132.43it/s]\n"
     ]
    },
    {
     "name": "stdout",
     "output_type": "stream",
     "text": [
      "{'ner': 4.000843756218104}\n"
     ]
    },
    {
     "name": "stderr",
     "output_type": "stream",
     "text": [
      "100%|█████████████████████████████████████████████████████████████████| 46/46 [00:00<00:00, 133.03it/s]\n"
     ]
    },
    {
     "name": "stdout",
     "output_type": "stream",
     "text": [
      "{'ner': 0.004066361869894632}\n"
     ]
    },
    {
     "name": "stderr",
     "output_type": "stream",
     "text": [
      "100%|█████████████████████████████████████████████████████████████████| 46/46 [00:00<00:00, 132.07it/s]\n"
     ]
    },
    {
     "name": "stdout",
     "output_type": "stream",
     "text": [
      "{'ner': 2.727702766927929e-06}\n"
     ]
    },
    {
     "name": "stderr",
     "output_type": "stream",
     "text": [
      "100%|█████████████████████████████████████████████████████████████████| 46/46 [00:00<00:00, 134.65it/s]\n"
     ]
    },
    {
     "name": "stdout",
     "output_type": "stream",
     "text": [
      "{'ner': 4.0187570414952924}\n"
     ]
    },
    {
     "name": "stderr",
     "output_type": "stream",
     "text": [
      "100%|█████████████████████████████████████████████████████████████████| 46/46 [00:00<00:00, 129.41it/s]\n"
     ]
    },
    {
     "name": "stdout",
     "output_type": "stream",
     "text": [
      "{'ner': 2.129064215466022e-05}\n"
     ]
    },
    {
     "name": "stderr",
     "output_type": "stream",
     "text": [
      "100%|█████████████████████████████████████████████████████████████████| 46/46 [00:00<00:00, 131.35it/s]\n"
     ]
    },
    {
     "name": "stdout",
     "output_type": "stream",
     "text": [
      "{'ner': 4.011520497238346}\n"
     ]
    },
    {
     "name": "stderr",
     "output_type": "stream",
     "text": [
      "100%|█████████████████████████████████████████████████████████████████| 46/46 [00:00<00:00, 134.30it/s]\n"
     ]
    },
    {
     "name": "stdout",
     "output_type": "stream",
     "text": [
      "{'ner': 12.405385930339799}\n"
     ]
    },
    {
     "name": "stderr",
     "output_type": "stream",
     "text": [
      "100%|█████████████████████████████████████████████████████████████████| 46/46 [00:00<00:00, 132.55it/s]\n"
     ]
    },
    {
     "name": "stdout",
     "output_type": "stream",
     "text": [
      "{'ner': 3.030634703660544}\n"
     ]
    },
    {
     "name": "stderr",
     "output_type": "stream",
     "text": [
      "100%|█████████████████████████████████████████████████████████████████| 46/46 [00:00<00:00, 137.03it/s]\n"
     ]
    },
    {
     "name": "stdout",
     "output_type": "stream",
     "text": [
      "{'ner': 2.004747310436185}\n"
     ]
    },
    {
     "name": "stderr",
     "output_type": "stream",
     "text": [
      "100%|█████████████████████████████████████████████████████████████████| 46/46 [00:00<00:00, 132.47it/s]\n"
     ]
    },
    {
     "name": "stdout",
     "output_type": "stream",
     "text": [
      "{'ner': 1.555302737391653}\n"
     ]
    },
    {
     "name": "stderr",
     "output_type": "stream",
     "text": [
      "100%|█████████████████████████████████████████████████████████████████| 46/46 [00:00<00:00, 135.68it/s]\n"
     ]
    },
    {
     "name": "stdout",
     "output_type": "stream",
     "text": [
      "{'ner': 4.402137215001761}\n"
     ]
    },
    {
     "name": "stderr",
     "output_type": "stream",
     "text": [
      "100%|█████████████████████████████████████████████████████████████████| 46/46 [00:00<00:00, 132.33it/s]\n"
     ]
    },
    {
     "name": "stdout",
     "output_type": "stream",
     "text": [
      "{'ner': 0.00026152736191998514}\n"
     ]
    },
    {
     "name": "stderr",
     "output_type": "stream",
     "text": [
      "100%|█████████████████████████████████████████████████████████████████| 46/46 [00:00<00:00, 128.75it/s]\n"
     ]
    },
    {
     "name": "stdout",
     "output_type": "stream",
     "text": [
      "{'ner': 3.3851938300279354}\n"
     ]
    },
    {
     "name": "stderr",
     "output_type": "stream",
     "text": [
      "100%|█████████████████████████████████████████████████████████████████| 46/46 [00:00<00:00, 134.86it/s]\n"
     ]
    },
    {
     "name": "stdout",
     "output_type": "stream",
     "text": [
      "{'ner': 3.607512982173079}\n"
     ]
    },
    {
     "name": "stderr",
     "output_type": "stream",
     "text": [
      "100%|█████████████████████████████████████████████████████████████████| 46/46 [00:00<00:00, 131.44it/s]\n"
     ]
    },
    {
     "name": "stdout",
     "output_type": "stream",
     "text": [
      "{'ner': 7.4070384922500265}\n"
     ]
    },
    {
     "name": "stderr",
     "output_type": "stream",
     "text": [
      "100%|█████████████████████████████████████████████████████████████████| 46/46 [00:00<00:00, 131.99it/s]\n"
     ]
    },
    {
     "name": "stdout",
     "output_type": "stream",
     "text": [
      "{'ner': 4.0033781675563045}\n"
     ]
    },
    {
     "name": "stderr",
     "output_type": "stream",
     "text": [
      "100%|█████████████████████████████████████████████████████████████████| 46/46 [00:00<00:00, 136.86it/s]\n"
     ]
    },
    {
     "name": "stdout",
     "output_type": "stream",
     "text": [
      "{'ner': 8.095168020768295}\n"
     ]
    },
    {
     "name": "stderr",
     "output_type": "stream",
     "text": [
      "100%|█████████████████████████████████████████████████████████████████| 46/46 [00:00<00:00, 133.27it/s]\n"
     ]
    },
    {
     "name": "stdout",
     "output_type": "stream",
     "text": [
      "{'ner': 5.983737640053572}\n"
     ]
    },
    {
     "name": "stderr",
     "output_type": "stream",
     "text": [
      "100%|█████████████████████████████████████████████████████████████████| 46/46 [00:00<00:00, 129.29it/s]\n"
     ]
    },
    {
     "name": "stdout",
     "output_type": "stream",
     "text": [
      "{'ner': 1.4619957390389086e-05}\n"
     ]
    },
    {
     "name": "stderr",
     "output_type": "stream",
     "text": [
      "100%|█████████████████████████████████████████████████████████████████| 46/46 [00:00<00:00, 131.57it/s]\n"
     ]
    },
    {
     "name": "stdout",
     "output_type": "stream",
     "text": [
      "{'ner': 7.55051613096205}\n"
     ]
    },
    {
     "name": "stderr",
     "output_type": "stream",
     "text": [
      "100%|█████████████████████████████████████████████████████████████████| 46/46 [00:00<00:00, 135.64it/s]\n"
     ]
    },
    {
     "name": "stdout",
     "output_type": "stream",
     "text": [
      "{'ner': 1.5336982951964164e-05}\n"
     ]
    },
    {
     "name": "stderr",
     "output_type": "stream",
     "text": [
      "100%|█████████████████████████████████████████████████████████████████| 46/46 [00:00<00:00, 136.25it/s]\n"
     ]
    },
    {
     "name": "stdout",
     "output_type": "stream",
     "text": [
      "{'ner': 5.998943181329582}\n"
     ]
    },
    {
     "name": "stderr",
     "output_type": "stream",
     "text": [
      "100%|█████████████████████████████████████████████████████████████████| 46/46 [00:00<00:00, 135.98it/s]\n"
     ]
    },
    {
     "name": "stdout",
     "output_type": "stream",
     "text": [
      "{'ner': 0.00968248806476676}\n"
     ]
    },
    {
     "name": "stderr",
     "output_type": "stream",
     "text": [
      "100%|█████████████████████████████████████████████████████████████████| 46/46 [00:00<00:00, 132.86it/s]\n"
     ]
    },
    {
     "name": "stdout",
     "output_type": "stream",
     "text": [
      "{'ner': 0.003112900299685007}\n"
     ]
    },
    {
     "name": "stderr",
     "output_type": "stream",
     "text": [
      "100%|█████████████████████████████████████████████████████████████████| 46/46 [00:00<00:00, 132.20it/s]\n"
     ]
    },
    {
     "name": "stdout",
     "output_type": "stream",
     "text": [
      "{'ner': 0.052858815270106434}\n"
     ]
    },
    {
     "name": "stderr",
     "output_type": "stream",
     "text": [
      "100%|█████████████████████████████████████████████████████████████████| 46/46 [00:00<00:00, 133.13it/s]\n"
     ]
    },
    {
     "name": "stdout",
     "output_type": "stream",
     "text": [
      "{'ner': 2.8291092954537893}\n"
     ]
    },
    {
     "name": "stderr",
     "output_type": "stream",
     "text": [
      "100%|█████████████████████████████████████████████████████████████████| 46/46 [00:00<00:00, 134.66it/s]"
     ]
    },
    {
     "name": "stdout",
     "output_type": "stream",
     "text": [
      "{'ner': 14.363709078349276}\n"
     ]
    },
    {
     "name": "stderr",
     "output_type": "stream",
     "text": [
      "\n"
     ]
    }
   ],
   "source": [
    "if 'ner' not in nlp.pipe_names:\n",
    "    nlp.add_pipe('ner', last=True)\n",
    "    ner = nlp.get_pipe('ner')\n",
    "else:\n",
    "    ner = nlp.get_pipe('ner')\n",
    "    \n",
    "for _, annotations in TRAIN_DATA:\n",
    "    for ent in annotations.get('entities'):\n",
    "        ner.add_label(ent[2])\n",
    "\n",
    "other_pipes = [pipe for pipe in nlp.pipe_names if pipe != 'ner']\n",
    "with nlp.disable_pipes(*other_pipes):  # only train NER\n",
    "    optimizer = nlp.begin_training()\n",
    "    for itn in range(n_iter):\n",
    "        random.shuffle(TRAIN_DATA)\n",
    "        losses = {}\n",
    "        for text, annotations in tqdm(TRAIN_DATA):\n",
    "            doc = nlp.make_doc(text)\n",
    "            example = Example.from_dict(doc, annotations)\n",
    "            # Update the model\n",
    "            nlp.update([example], losses=losses, drop=0.3)\n",
    "        print(losses)\n",
    "        "
   ]
  },
  {
   "cell_type": "code",
   "execution_count": 65,
   "id": "058ff9fa-4b81-43c2-be91-5b8ac6d50bfb",
   "metadata": {},
   "outputs": [
    {
     "name": "stdout",
     "output_type": "stream",
     "text": [
      "Entities [('189 elm avenue', 'ADDRESS'), ('intense abdominal pain', 'SYMPTOM')]\n",
      "Entities [('56 oak street', 'ADDRESS'), ('numbness in arms', 'SYMPTOM'), ('slurred speech', 'SYMPTOM')]\n",
      "Entities [('246 willow drive', 'ADDRESS'), ('stroke', 'SYMPTOM'), ('slurred speech', 'SYMPTOM')]\n",
      "Entities [('345 redwood lane', 'ADDRESS'), ('cardiac distress', 'SYMPTOM'), ('chest pain', 'SYMPTOM')]\n",
      "Entities [('87 pine lane', 'ADDRESS'), ('high fever', 'SYMPTOM'), ('severe muscle cramps', 'SYMPTOM')]\n",
      "Entities [('34 hunter creek rd in sylvania', 'ADDRESS')]\n",
      "Entities [('57 rosewood avenue', 'ADDRESS'), ('severe allergic reaction', 'SYMPTOM'), ('swelling', 'SYMPTOM'), ('difficulty breathing', 'SYMPTOM')]\n",
      "Entities [('23 willow road', 'ADDRESS'), ('severe headache', 'SYMPTOM')]\n",
      "Entities [('678 cedar street', 'ADDRESS'), ('severe dizziness', 'SYMPTOM'), ('loss of consciousness', 'SYMPTOM')]\n",
      "Entities [('901 pine avenue', 'ADDRESS'), ('severe abdominal pain', 'SYMPTOM'), ('lost consciousness', 'SYMPTOM')]\n",
      "Entities [('123 main st', 'ADDRESS')]\n",
      "Entities [('lost consciousness', 'SYMPTOM'), ('18 quail run drive', 'ADDRESS')]\n",
      "Entities [('severe chest tightness', 'SYMPTOM'), ('rapid heartbeat', 'SYMPTOM')]\n",
      "Entities [('135 spruce avenue', 'ADDRESS'), ('allergic reaction', 'SYMPTOM'), ('swelling', 'SYMPTOM'), ('difficulty breathing', 'SYMPTOM')]\n",
      "Entities [('654 cedar court', 'ADDRESS'), ('vision loss', 'SYMPTOM'), ('numbness in limbs', 'SYMPTOM')]\n",
      "Entities [('189 elm avenue', 'ADDRESS'), ('intense abdominal pain', 'SYMPTOM')]\n",
      "Entities [('89 elm avenue', 'ADDRESS')]\n",
      "Entities [('678 cedar street', 'ADDRESS'), ('severe dizziness', 'SYMPTOM'), ('loss of consciousness', 'SYMPTOM')]\n",
      "Entities [('44 beaver dam road san francisco', 'ADDRESS'), ('barely conscious', 'SYMPTOM')]\n",
      "Entities [('734 ivy court', 'ADDRESS'), ('severe migraine', 'SYMPTOM'), ('visual disturbances', 'SYMPTOM')]\n",
      "Entities [('567 rosewood avenue', 'ADDRESS'), ('severe allergic reaction', 'SYMPTOM'), ('swelling', 'SYMPTOM'), ('difficulty breathing', 'SYMPTOM')]\n",
      "Entities [('70 holly drive, apartment 4b', 'ADDRESS')]\n",
      "Entities [('432 lakeview drive', 'ADDRESS'), ('shortness of breath', 'SYMPTOM'), ('chest discomfort', 'SYMPTOM')]\n",
      "Entities [('90 aspen way', 'ADDRESS'), ('severe abdominal pain', 'SYMPTOM')]\n",
      "Entities [('789 birch avenue', 'ADDRESS'), ('severe back pain', 'SYMPTOM'), ('weakness in legs', 'SYMPTOM')]\n",
      "Entities [('987 sunflower lane sacramento, california', 'ADDRESS'), ('intense abdominal pain', 'SYMPTOM')]\n",
      "Entities [('56 oak street', 'ADDRESS'), ('numbness in arms', 'SYMPTOM'), ('slurred speech', 'SYMPTOM')]\n",
      "Entities [('23 willow road', 'ADDRESS'), ('severe headache', 'SYMPTOM')]\n",
      "Entities [('390 redwood lane', 'ADDRESS'), ('cardiac distress', 'SYMPTOM'), ('chest pain', 'SYMPTOM')]\n",
      "Entities [('santa monica 100 eagle rd', 'ADDRESS'), ('bleeding out', 'SYMPTOM')]\n",
      "Entities [('789 elm st', 'ADDRESS'), ('severe abdominal pain', 'SYMPTOM')]\n",
      "Entities []\n",
      "Entities [('432 lakeview drive', 'ADDRESS'), ('shortness of breath', 'SYMPTOM'), ('chest discomfort', 'SYMPTOM')]\n",
      "Entities [('23 maple lane', 'ADDRESS')]\n",
      "Entities [('234 ivy court', 'ADDRESS'), ('not breathing', 'SYMPTOM')]\n",
      "Entities [('cross section of 46 east st and madison avenue', 'ADDRESS'), ('bleeding out', 'SYMPTOM')]\n",
      "Entities [('789 birch avenue', 'ADDRESS'), ('severe back pain', 'SYMPTOM'), ('weakness in legs', 'SYMPTOM')]\n",
      "Entities [('456 pine drive san francisco', 'ADDRESS'), ('unconsciousness', 'SYMPTOM')]\n",
      "Entities [('heart attack', 'SYMPTOM'), ('1043 centennial avenue', 'ADDRESS'), ('los angeles', 'ADDRESS')]\n",
      "Entities [('severe chest pain', 'SYMPTOM'), ('difficulty breathing', 'SYMPTOM')]\n",
      "Entities [('390 redwood lane', 'ADDRESS'), ('cardiac distress', 'SYMPTOM'), ('chest pain', 'SYMPTOM')]\n",
      "Entities [('456 oak ave', 'ADDRESS')]\n",
      "Entities [('321 maple rd', 'ADDRESS'), ('intense back pain', 'SYMPTOM'), ('fainting spells', 'SYMPTOM')]\n",
      "Entities [('234 beach road, houston texas', 'ADDRESS'), ('shortness of breath', 'SYMPTOM'), ('chest discomfort', 'SYMPTOM')]\n",
      "Entities [('56 oak street', 'ADDRESS')]\n",
      "Entities [('801 magnolia avenue new york city', 'ADDRESS'), ('cardiac arrest', 'SYMPTOM')]\n"
     ]
    }
   ],
   "source": [
    "for text, _ in TRAIN_DATA:\n",
    "    doc = nlp(text)\n",
    "    print('Entities', [(ent.text, ent.label_) for ent in doc.ents])"
   ]
  },
  {
   "cell_type": "code",
   "execution_count": 66,
   "id": "2a1001c3-9948-4b8d-8c6f-10a76d8cb6e5",
   "metadata": {},
   "outputs": [
    {
     "name": "stdout",
     "output_type": "stream",
     "text": [
      "Saved model to custom_ner_model\n"
     ]
    }
   ],
   "source": [
    "output_dir = 'custom_ner_model'\n",
    "nlp.to_disk(output_dir)\n",
    "print(\"Saved model to\", output_dir)"
   ]
  },
  {
   "cell_type": "code",
   "execution_count": 67,
   "id": "48cee3a2-ea13-4dc2-94e0-cff2f4049a81",
   "metadata": {},
   "outputs": [],
   "source": [
    "model = spacy.load(output_dir)"
   ]
  },
  {
   "cell_type": "code",
   "execution_count": 68,
   "id": "4b62b9db-3ab1-4f63-9438-6aa337ac199b",
   "metadata": {},
   "outputs": [
    {
     "name": "stdout",
     "output_type": "stream",
     "text": [
      "Categorized Data: {'address': '189 Elm Avenue', 'symptoms': 'intense abdominal pain', 'context': 'Emergency at, . The patient is experiencing, and nausea.'}\n"
     ]
    }
   ],
   "source": [
    "def categorize_text(text):\n",
    "    doc = model(text)\n",
    "    address = []\n",
    "    symptoms = []\n",
    "    context = []\n",
    "\n",
    "    entity_positions = []\n",
    "    for ent in doc.ents:\n",
    "        entity_positions.append((ent.start_char, ent.end_char))\n",
    "        if ent.label_ == \"ADDRESS\":\n",
    "            address.append(ent.text)\n",
    "        elif ent.label_ == \"SYMPTOM\":\n",
    "            symptoms.append(ent.text)\n",
    "            \n",
    "    # Add the non-entity text as context\n",
    "    prev_end = 0\n",
    "    for start, end in sorted(entity_positions):\n",
    "        if prev_end < start:\n",
    "            context.append(text[prev_end:start].strip())\n",
    "        prev_end = end\n",
    "\n",
    "    if prev_end < len(text):\n",
    "        context.append(text[prev_end:].strip())\n",
    "\n",
    "    return {\n",
    "        \"address\": \", \".join(address),\n",
    "        \"symptoms\": \", \".join(symptoms),\n",
    "        \"context\": \", \".join(context)\n",
    "    }\n",
    "\n",
    "text = \"Emergency at 189 Elm Avenue. The patient is experiencing intense abdominal pain and nausea.\"\n",
    "categorized_data = categorize_text(text)\n",
    "print('Categorized Data:', categorized_data)\n"
   ]
  },
  {
   "cell_type": "code",
   "execution_count": 69,
   "id": "9f2c7e6e-b977-4d98-9dd2-e6861a72cd4b",
   "metadata": {},
   "outputs": [
    {
     "name": "stdout",
     "output_type": "stream",
     "text": [
      "Categorized Data: {'address': '100 larkin st san francisco', 'symptoms': 'intense abdominal pain', 'context': 'Emergency at, . the patient is experiencing, and nausea they are on the first floor of the building'}\n"
     ]
    }
   ],
   "source": [
    "text = \"Emergency at 100 larkin st san francisco. the patient is experiencing intense abdominal pain and nausea they are on the first floor of the building\"\n",
    "categorized_data = categorize_text(text)\n",
    "print('Categorized Data:', categorized_data)"
   ]
  },
  {
   "cell_type": "code",
   "execution_count": 73,
   "id": "807983e3-21f2-45c1-81b2-220bb567c5ff",
   "metadata": {},
   "outputs": [
    {
     "name": "stdout",
     "output_type": "stream",
     "text": [
      "Categorized Data: {'address': '4 clover st', 'symptoms': 'unconsciousness', 'context': 'Patient experiencing, and having a seizure on, idaho. Patient is in the backyard'}\n"
     ]
    }
   ],
   "source": [
    "text = \"Patient experiencing unconsciousness and having a seizure on 4 clover st idaho. Patient is in the backyard\"\n",
    "categorized_data = categorize_text(text)\n",
    "print('Categorized Data:', categorized_data)"
   ]
  },
  {
   "cell_type": "code",
   "execution_count": null,
   "id": "da2bf37d-93a6-4725-8577-41f0fc6325f7",
   "metadata": {},
   "outputs": [],
   "source": [
    "TRAIN_DATA = []\n",
    "\n",
    "TRAIN_DATA.append(generateTrainingScript(\"Patient has severe chest pain and difficulty breathing\", [], [\"severe chest pain\", \"difficulty breathing\"]))\n",
    "TRAIN_DATA.append(generateTrainingScript(\"Patient reports headache and nausea\", [], [\"headache\", \"nausea\"]))\n",
    "TRAIN_DATA.append(generateTrainingScript(\"There is an emergency at 123 Main St\", [\"123 Main St\"], []))\n",
    "TRAIN_DATA.append(generateTrainingScript(\"Urgent: 456 Oak Ave needs immediate assistance.\", [\"456 Oak Ave\"], []))\n",
    "TRAIN_DATA.append(generateTrainingScript(\"Emergency at 789 Elm St. The patient is experiencing severe abdominal pain and dizziness.\", [\"789 Elm St\"], [\"severe abdominal pain\", \"dizziness\"]))\n",
    "TRAIN_DATA.append(generateTrainingScript(\"At 321 Maple Rd, the patient is suffering from intense back pain and fainting spells.\",[\"321 Maple Rd\"], [\"intense back pain\", \"fainting spells\"]))\n",
    "TRAIN_DATA.append(generateTrainingScript(\"There's an urgent situation at 23 Maple Lane.\",[\"23 Maple Lane\"], []))\n",
    "TRAIN_DATA.append(generateTrainingScript(\"Immediate assistance needed at 56 Oak Street.\",[\"56 Oak Street\"], []))\n",
    "TRAIN_DATA.append(generateTrainingScript(\"Emergency reported at 89 Elm Avenue\",[\"89 Elm Avenue\"], []))\n",
    "TRAIN_DATA.append(generateTrainingScript(\"We need help at 654 Cedar Court. Subject has sudden vision loss and numbness in limbs.\",[\"654 Cedar Court\"], [\"vision loss\", \"numbness in limbs\"]))\n",
    "TRAIN_DATA.append(generateTrainingScript(\"Urgent situation at 87 Pine Lane. The individual is reporting high fever and severe muscle cramps.\",[\"87 Pine Lane\"], [\"high fever\", \"severe muscle cramps\"]))\n",
    "TRAIN_DATA.append(generateTrainingScript(\"The situation at 246 Willow Drive demands immediate attention. Victim shows signs of stroke with slurred speech and paralysis.\",[\"246 Willow Drive\"], [\"stroke\", \"slurred speech\", \"paralysis\"]))\n",
    "TRAIN_DATA.append(generateTrainingScript(\"Reporting from 135 Spruce Avenue. The patient is exhibiting signs of an allergic reaction with swelling and difficulty breathing.\",[\"135 Spruce Avenue\"], [\"allergic reaction\", \"swelling\", \"difficulty breathing\"]))\n",
    "TRAIN_DATA.append(generateTrainingScript(\"Person is experiencing severe chest tightness and rapid heartbeat.\",[], [\"severe chest tightness\", \"rapid heartbeat\"]))\n",
    "TRAIN_DATA.append(generateTrainingScript(\"At 90 Aspen Way, the casualty is suffering from severe abdominal pain.\",[\"90 Aspen Way\"], [\"severe abdominal pain\"]))\n",
    "TRAIN_DATA.append(generateTrainingScript(\"Immediate help required at 234 Beach Road, Houston Texas. Individual is experiencing shortness of breath and chest discomfort.\",[\"234 Beach Road, Houston Texas\"], [\"shortness of breath\", \"chest discomfort\"]))\n",
    "TRAIN_DATA.append(generateTrainingScript(\"There's an emergency at 801 Magnolia Avenue New York City. The person is suffering from cardiac arrest.\",[\"801 Magnolia Avenue New York City\"], [\"cardiac arrest\"]))\n",
    "TRAIN_DATA.append(generateTrainingScript(\"At 456 Pine Drive San Francisco, the injured party reports sudden unconsciousness.\",[\"456 Pine Drive San Francisco\"], [\"unconsciousness\"]))\n",
    "TRAIN_DATA.append(generateTrainingScript(\"Emergency at 987 Sunflower Lane Sacramento, California. The individual is experiencing intense abdominal pain.\",[\"987 Sunflower Lane Sacramento, California\"], [\"intense abdominal pain\"]))\n",
    "TRAIN_DATA.append(generateTrainingScript(\"We need assistance at 234 Ivy Court on the second floor of the apartment building. The patient has is not breathing.\",[\"234 Ivy Court\"], [\"not breathing\"]))\n",
    "TRAIN_DATA.append(generateTrainingScript(\"The situation at 567 Rosewood Avenue demands immediate attention. Victim shows signs of severe allergic reaction with swelling and difficulty breathing.\",[\"567 Rosewood Avenue\"], [\"severe allergic reaction\", \"swelling\", \"difficulty breathing\"]))\n",
    "TRAIN_DATA.append(generateTrainingScript(\"Reporting from 345 Redwood Lane. The person is showing signs of cardiac distress with chest pain and sweating.\",[\"345 Redwood Lane\"], [\"cardiac distress\", \"chest pain\", \"sweating\"]))\n",
    "TRAIN_DATA.append(generateTrainingScript(\"Calling from 678 Cedar Street. Individual is experiencing severe dizziness and loss of consciousness.\",[\"678 Cedar Street\"], [\"severe dizziness\", \"loss of consciousness\"]))\n",
    "TRAIN_DATA.append(generateTrainingScript(\"At 901 Pine Avenue, the patient is having severe abdominal pain and vomiting. They lost consciousness.\",[\"901 Pine Avenue\"], [\"severe abdominal pain\", \"vomiting\", \"lost consciousness\"]))\n",
    "TRAIN_DATA.append(generateTrainingScript(\"Emergency at 23 Willow Road. The victim has severe headache and confusion.\",[\"23 Willow Road\"], [\"severe headache\", \"confusion\"]))\n",
    "TRAIN_DATA.append(generateTrainingScript(\"Immediate help required at 432 Lakeview Drive. Person is experiencing shortness of breath and chest discomfort.\",[\"432 Lakeview Drive\"], [\"shortness of breath\", \"chest discomfort\"]))\n",
    "TRAIN_DATA.append(generateTrainingScript(\"There's an urgent situation at 789 Birch Avenue. The individual is suffering from severe back pain and weakness in legs.\",[\"789 Birch Avenue\"], [\"severe back pain\", \"weakness in legs\"]))\n",
    "TRAIN_DATA.append(generateTrainingScript(\"At 56 Oak Street, the injured party reports sudden onset of numbness in arms and slurred speech.\",[\"56 Oak Street\"], [\"numbness in arms\", \"slurred speech\"]))\n",
    "TRAIN_DATA.append(generateTrainingScript(\"Emergency at 189 Elm Avenue. The patient is experiencing intense abdominal pain and nausea.\",[\"189 Elm Avenue\"], [\"intense abdominal pain\", \"nausea\"]))\n",
    "TRAIN_DATA.append(generateTrainingScript(\"We need assistance at 734 Ivy Court. The person has severe migraine with visual disturbances.\",[\"734 Ivy Court\"], [\"severe migraine\", \"visual disturbances\"]))\n",
    "TRAIN_DATA.append(generateTrainingScript(\"The situation at 57 Rosewood Avenue demands immediate attention. Victim shows signs of severe allergic reaction with swelling and difficulty breathing.\",[\"57 Rosewood Avenue\"], [\"severe allergic reaction\", \"swelling\", \"difficulty breathing\"]))\n",
    "TRAIN_DATA.append(generateTrainingScript(\"Reporting from 390 Redwood Lane. The person is showing signs of cardiac distress with chest pain.\",[\"390 Redwood Lane\"], [\"cardiac distress\", \"chest pain\"]))\n",
    "TRAIN_DATA.append(generateTrainingScript(\"Calling from 678 Cedar Street. Individual is experiencing severe dizziness and loss of consciousness.\",[\"678 Cedar Street\"], [\"severe dizziness\", \"loss of consciousness\"]))\n",
    "TRAIN_DATA.append(generateTrainingScript(\"Reporting from 390 Redwood Lane. The person is showing signs of cardiac distress with chest pain.\",[\"390 Redwood Lane\"], [\"cardiac distress\", \"chest pain\"]))\n",
    "TRAIN_DATA.append(generateTrainingScript(\"Emergency at 23 Willow Road. The victim has severe headache and confusion.\",[\"23 Willow Road\"], [\"severe headache\", \"confusion\"]))\n",
    "TRAIN_DATA.append(generateTrainingScript(\"Immediate help required at 432 Lakeview Drive. Person is experiencing shortness of breath and chest discomfort.\",[\"432 Lakeview Drive\"], [\"shortness of breath\", \"chest discomfort\"]))\n",
    "TRAIN_DATA.append(generateTrainingScript(\"There's an urgent situation at 789 Birch Avenue. The individual is suffering from severe back pain and weakness in legs.\",[\"789 Birch Avenue\"], [\"severe back pain\", \"weakness in legs\"]))\n",
    "TRAIN_DATA.append(generateTrainingScript(\"At 56 Oak Street, the injured party reports sudden onset of numbness in arms and slurred speech.\",[\"56 Oak Street\"], [\"numbness in arms\", \"slurred speech\"]))\n",
    "TRAIN_DATA.append(generateTrainingScript(\"Emergency at 189 Elm Avenue. The patient is experiencing intense abdominal pain and nausea.\",[\"189 Elm Avenue\"], [\"intense abdominal pain\", \"nausea\"]))\n",
    "TRAIN_DATA.append(generateTrainingScript(\"accident on 44 Beaver Dam Road San Francisco. The victim is bleeding all over, barely conscious\",[\"44 Beaver Dam Road San Francisco\"], [\"bleeding\", \"barely conscious\"]))\n",
    "TRAIN_DATA.append(generateTrainingScript(\"Someone is having a seizure, on 70 Holly Drive, Apartment 4B. You have to get in through the back door.\",[\"70 Holly Drive, Apartment 4B\"], [\"seizure\"]))\n",
    "TRAIN_DATA.append(generateTrainingScript(\"Someone is having a heart attack 1043 Centennial Avenue in Los Angeles\",[\"1043 Centennial Avenue\", \"Los Angeles\"], [\"heart attack\"]))\n",
    "TRAIN_DATA.append(generateTrainingScript(\"Victim of dog attack on cross section of 46 East St and Madison Avenue. Victim is bleeding out\",[\"cross section of 46 East St and Madison Avenue\"], [\"bleeding out\"]))\n",
    "TRAIN_DATA.append(generateTrainingScript(\"Shark attack on the pier of Santa Monica 100 Eagle Rd. Patient bleeding out and suffering from hypothermia\",[\"Santa Monica 100 Eagle Rd\"], [\"bleeding out\", \"hypothermia\"]))\n",
    "TRAIN_DATA.append(generateTrainingScript(\"Elderly woman fell and currently unconscious. Inside her home at 34 Hunter Creek Rd in Sylvania\",[\"34 Hunter Creek Rd in Sylvania\"], [\"unconscious\"]))\n",
    "TRAIN_DATA.append(generateTrainingScript(\"Child lost consciousness after eating peanut butter. He is unconscious inside the school cafeteria at 18 Quail Run Drive\",[\"18 Quail Run Drive\"], [\"lost consciousness\", \"unconscious\"]))\n",
    "# print(TRAIN_DATA)"
   ]
  }
 ],
 "metadata": {
  "kernelspec": {
   "display_name": "Python 3 (ipykernel)",
   "language": "python",
   "name": "python3"
  },
  "language_info": {
   "codemirror_mode": {
    "name": "ipython",
    "version": 3
   },
   "file_extension": ".py",
   "mimetype": "text/x-python",
   "name": "python",
   "nbconvert_exporter": "python",
   "pygments_lexer": "ipython3",
   "version": "3.11.9"
  }
 },
 "nbformat": 4,
 "nbformat_minor": 5
}
